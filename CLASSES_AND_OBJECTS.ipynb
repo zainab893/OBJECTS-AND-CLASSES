{
  "nbformat": 4,
  "nbformat_minor": 0,
  "metadata": {
    "colab": {
      "provenance": []
    },
    "kernelspec": {
      "name": "python3",
      "display_name": "Python 3"
    },
    "language_info": {
      "name": "python"
    }
  },
  "cells": [
    {
      "cell_type": "code",
      "execution_count": 18,
      "metadata": {
        "id": "BUYbRIlJ7dg-"
      },
      "outputs": [],
      "source": [
        "#W25-PAK-INP-AI-01\n",
        "# SYEDA ZAINAB FATIMA\n"
      ]
    },
    {
      "cell_type": "code",
      "source": [
        "# 10 CLASSES WITH 2 OBJECTS"
      ],
      "metadata": {
        "id": "vFRY5nPxgpAN"
      },
      "execution_count": 19,
      "outputs": []
    },
    {
      "cell_type": "code",
      "source": [
        "# CLASS 1\n",
        "class Animal:\n",
        "  def __init__(self, name, sound):\n",
        "    self.name = name\n",
        "    self.sound = sound\n",
        "Animal1 = Animal(\"Dog\", \"Bark\")\n",
        "Animal2 = Animal(\"cat\", \"meow\")"
      ],
      "metadata": {
        "id": "aapQNbCpgpDW"
      },
      "execution_count": 4,
      "outputs": []
    },
    {
      "cell_type": "code",
      "source": [
        "# Class 2\n",
        "class Student:\n",
        "  def __init__(self , rollno, grades):\n",
        "    self.rollno = rollno\n",
        "    self.grade = grades\n",
        "Student1 = Student(\"101\", \"A\")\n",
        "Student2 = Student(\"102\", \"B+\")"
      ],
      "metadata": {
        "id": "fLPCKttQgpGF"
      },
      "execution_count": 5,
      "outputs": []
    },
    {
      "cell_type": "code",
      "source": [
        "# Class 3\n",
        "class Fruit:\n",
        "  def __init__(self, name , colour):\n",
        "    self.name = name\n",
        "    self.colour = colour\n",
        "Fruit1 = Fruit(\"Mango\", \"Yellow\")\n",
        "Fruit2 = Fruit(\"Apple\", \"Red\")"
      ],
      "metadata": {
        "id": "SSZbpyOzgpI6"
      },
      "execution_count": 6,
      "outputs": []
    },
    {
      "cell_type": "code",
      "source": [
        "# Class 4\n",
        "class Car:\n",
        "  def __init__(self, brand, colour):\n",
        "    self.brand = brand\n",
        "    self.colour = colour\n",
        "Car1 = Car(\"Toyota\", \"Corola\")\n",
        "Car2 = Car(\"Honda\", \"Civic\")"
      ],
      "metadata": {
        "id": "_PXrGI19gpLr"
      },
      "execution_count": 11,
      "outputs": []
    },
    {
      "cell_type": "code",
      "source": [
        "# Class 5\n",
        "class Laptop:\n",
        "  def __init__(self, brand, Ram):\n",
        "    self.brand = brand\n",
        "    self.Ram = Ram\n",
        "Laptop1 = Laptop(\"Dell\", \"8GB\")\n",
        "Laptop2 = Laptop(\"Hp\", \"12GB\")\n"
      ],
      "metadata": {
        "id": "7vs2lOiqgpOw"
      },
      "execution_count": 12,
      "outputs": []
    },
    {
      "cell_type": "code",
      "source": [
        "# Class 6\n",
        "class book:\n",
        "  def __init__(self, name, author):\n",
        "    self.name = name\n",
        "    self.author = author\n",
        "book1 = book(\"Pride and Prejudice\", \"Jane Austen\")\n",
        "book2 = book(\"The Great Gatsby\", \"F. Scott Fitzgerald\")"
      ],
      "metadata": {
        "id": "C1orBZusgpR2"
      },
      "execution_count": 13,
      "outputs": []
    },
    {
      "cell_type": "code",
      "source": [
        "# CLass 7\n",
        "class City:\n",
        "  def __init__(self, name, Population):\n",
        "    self.name = name\n",
        "    self.Population = Population\n",
        "City1 = City(\"Karachi\", \"14.91 million\")\n",
        "City2 = City(\"Lahore\", \"11.13 million\")"
      ],
      "metadata": {
        "id": "Vj8VNVo_gpVo"
      },
      "execution_count": 14,
      "outputs": []
    },
    {
      "cell_type": "code",
      "source": [
        "# Class 8\n",
        "class movie:\n",
        "  def __init__(self, name, director):\n",
        "    self.name = name\n",
        "    self.director = director\n",
        "movie1 = movie(\"The Shawshank Redemption\", \"Frank Darabont\")\n",
        "movie2 = movie(\"The Godfather\", \"Francis Ford Coppola\")"
      ],
      "metadata": {
        "id": "Y7dAUi2052iK"
      },
      "execution_count": 15,
      "outputs": []
    },
    {
      "cell_type": "code",
      "source": [
        "# Class 9\n",
        "class Mobile:\n",
        "  def __init__(self, brand, colour):\n",
        "    self.brand = brand\n",
        "    self.colour = colour\n",
        "Mobile1 = Mobile(\"Samsung\", \"Black\")\n",
        "Mobile2 = Mobile(\"Apple\", \"White\")"
      ],
      "metadata": {
        "id": "Kek-rg0A52qa"
      },
      "execution_count": 16,
      "outputs": []
    },
    {
      "cell_type": "code",
      "source": [
        "# Class 10\n",
        "class beverage:\n",
        "  def __init__(self, name, taste):\n",
        "    self.name = name\n",
        "    self.taste = taste\n",
        "beverage1 = beverage(\"Tea\", \"Sweet\")\n",
        "beverage2 = beverage(\"Coffee\", \"Bitter\")\n"
      ],
      "metadata": {
        "id": "UuYA1jb-52w9"
      },
      "execution_count": 17,
      "outputs": []
    }
  ]
}